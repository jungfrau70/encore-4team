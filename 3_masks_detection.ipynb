{
  "nbformat": 4,
  "nbformat_minor": 0,
  "metadata": {
    "colab": {
      "name": "3_masks-detection.ipynb",
      "provenance": [],
      "collapsed_sections": [],
      "authorship_tag": "ABX9TyOmmY1tNLex/1CmwQSZWl06",
      "include_colab_link": true
    },
    "kernelspec": {
      "name": "python3",
      "display_name": "Python 3"
    },
    "language_info": {
      "name": "python"
    },
    "accelerator": "GPU"
  },
  "cells": [
    {
      "cell_type": "markdown",
      "metadata": {
        "id": "view-in-github",
        "colab_type": "text"
      },
      "source": [
        "<a href=\"https://colab.research.google.com/github/jungfrau70/encore-4team/blob/main/3_masks_detection.ipynb\" target=\"_parent\"><img src=\"https://colab.research.google.com/assets/colab-badge.svg\" alt=\"Open In Colab\"/></a>"
      ]
    },
    {
      "cell_type": "markdown",
      "metadata": {
        "id": "P3AHYID8UfQk"
      },
      "source": [
        "## Masks Detection Web Service\n",
        "\n",
        "참조\n",
        "\n",
        "https://masks-detection-13237.web.app\n",
        "\n",
        "https://github.com/ohyicong/masksdetection.git"
      ]
    },
    {
      "cell_type": "markdown",
      "metadata": {
        "id": "ILDo1RpZXnKh"
      },
      "source": [
        "# Download Code from GITHUB"
      ]
    },
    {
      "cell_type": "markdown",
      "metadata": {
        "id": "gVfYwHOsa3OL"
      },
      "source": [
        "https://github.com/jungfrau70/project1-masksdetection.git"
      ]
    },
    {
      "cell_type": "code",
      "metadata": {
        "id": "7c4grhh5UbyU",
        "colab": {
          "base_uri": "https://localhost:8080/"
        },
        "outputId": "7dfe1e91-083e-4cc8-bbe8-105720ae75d9"
      },
      "source": [
        "!git clone https://github.com/jungfrau70/project1-masksdetection.git"
      ],
      "execution_count": 1,
      "outputs": [
        {
          "output_type": "stream",
          "text": [
            "Cloning into 'project1-masksdetection'...\n",
            "remote: Enumerating objects: 3247, done.\u001b[K\n",
            "remote: Counting objects: 100% (3247/3247), done.\u001b[K\n",
            "remote: Compressing objects: 100% (2920/2920), done.\u001b[K\n",
            "remote: Total 3247 (delta 314), reused 3243 (delta 313), pack-reused 0\u001b[K\n",
            "Receiving objects: 100% (3247/3247), 103.32 MiB | 32.63 MiB/s, done.\n",
            "Resolving deltas: 100% (314/314), done.\n"
          ],
          "name": "stdout"
        }
      ]
    },
    {
      "cell_type": "markdown",
      "metadata": {
        "id": "fNL0NDqkZ9rZ"
      },
      "source": [
        "## STEP 1. import"
      ]
    },
    {
      "cell_type": "code",
      "metadata": {
        "id": "0K4Ul904Z8Pw"
      },
      "source": [
        "# import the necessary packages\n",
        "import argparse\n",
        "import matplotlib.pyplot as plt\n",
        "import numpy as np\n",
        "import os\n",
        "import tensorflow as tf\n",
        "\n",
        "from imutils import paths\n",
        "from sklearn.preprocessing import LabelBinarizer\n",
        "from sklearn.model_selection import train_test_split\n",
        "from sklearn.metrics import classification_report\n",
        "from tensorflow.keras.applications import MobileNetV2\n",
        "from tensorflow.keras.applications.mobilenet_v2 import preprocess_input\n",
        "from tensorflow.keras.callbacks import ModelCheckpoint\n",
        "from tensorflow.keras.layers import AveragePooling2D\n",
        "from tensorflow.keras.layers import Dropout\n",
        "from tensorflow.keras.layers import Flatten\n",
        "from tensorflow.keras.layers import Dense\n",
        "from tensorflow.keras.layers import Input\n",
        "from tensorflow.keras.models import Model\n",
        "from tensorflow.keras.optimizers import Adam\n",
        "from tensorflow.keras.preprocessing.image import img_to_array\n",
        "from tensorflow.keras.preprocessing.image import ImageDataGenerator\n",
        "from tensorflow.keras.preprocessing.image import load_img\n",
        "from tensorflow.keras.utils import to_categorical"
      ],
      "execution_count": 2,
      "outputs": []
    },
    {
      "cell_type": "markdown",
      "metadata": {
        "id": "b9n8CDToaE9a"
      },
      "source": [
        "## STEP 2. 전처리 (pre-processing)"
      ]
    },
    {
      "cell_type": "code",
      "metadata": {
        "colab": {
          "base_uri": "https://localhost:8080/"
        },
        "id": "Aj5PPLs7aIOk",
        "outputId": "f05f5879-d7b2-4e82-cf3f-95c54d66ad9a"
      },
      "source": [
        "print(os.getcwd())\n",
        "!ls -al project1-masksdetection"
      ],
      "execution_count": 3,
      "outputs": [
        {
          "output_type": "stream",
          "text": [
            "/content\n",
            "total 120\n",
            "drwxr-xr-x 13 root root  4096 May 29 23:25 .\n",
            "drwxr-xr-x  1 root root  4096 May 29 23:25 ..\n",
            "-rw-r--r--  1 root root  5788 May 29 23:25 create_augmented_dataset.py\n",
            "drwxr-xr-x  4 root root  4096 May 29 23:25 dataset\n",
            "-rw-r--r--  1 root root  4848 May 29 23:25 detect_mask_video.py\n",
            "-rw-r--r--  1 root root  1059 May 29 23:25 detect_mask_video.spec\n",
            "-rw-r--r--  1 root root   153 May 29 23:25 docker-compose.yml\n",
            "-rw-r--r--  1 root root   108 May 29 23:25 Dockerfile\n",
            "drwxr-xr-x  2 root root  4096 May 29 23:25 face_detector\n",
            "drwxr-xr-x  8 root root  4096 May 29 23:25 .git\n",
            "-rw-r--r--  1 root root    32 May 29 23:25 .gitignore\n",
            "drwxr-xr-x  3 root root  4096 May 29 23:25 .idea\n",
            "drwxr-xr-x  2 root root  4096 May 29 23:25 images\n",
            "drwxr-xr-x  2 root root  4096 May 29 23:25 .ipynb_checkpoints\n",
            "-rw-r--r--  1 root root 22048 May 29 23:25 masks_detection.ipynb\n",
            "drwxr-xr-x  2 root root  4096 May 29 23:25 model\n",
            "drwxr-xr-x  2 root root  4096 May 29 23:25 plot\n",
            "drwxr-xr-x  2 root root  4096 May 29 23:25 __pycache__\n",
            "drwxr-xr-x  4 root root  4096 May 29 23:25 python-flask\n",
            "-rw-r--r--  1 root root    27 May 29 23:25 README.md\n",
            "drwxr-xr-x  2 root root  4096 May 29 23:25 sounds\n",
            "-rw-r--r--  1 root root  5134 May 29 23:25 train_mask_detector.py\n"
          ],
          "name": "stdout"
        }
      ]
    },
    {
      "cell_type": "code",
      "metadata": {
        "colab": {
          "base_uri": "https://localhost:8080/"
        },
        "id": "MRyd8WhxbDME",
        "outputId": "f55a562b-5fa8-4475-e25e-d003e772c11b"
      },
      "source": [
        "import os\n",
        "os.chdir('project1-masksdetection')\n",
        "!ls -al ."
      ],
      "execution_count": 4,
      "outputs": [
        {
          "output_type": "stream",
          "text": [
            "total 120\n",
            "drwxr-xr-x 13 root root  4096 May 29 23:25 .\n",
            "drwxr-xr-x  1 root root  4096 May 29 23:25 ..\n",
            "-rw-r--r--  1 root root  5788 May 29 23:25 create_augmented_dataset.py\n",
            "drwxr-xr-x  4 root root  4096 May 29 23:25 dataset\n",
            "-rw-r--r--  1 root root  4848 May 29 23:25 detect_mask_video.py\n",
            "-rw-r--r--  1 root root  1059 May 29 23:25 detect_mask_video.spec\n",
            "-rw-r--r--  1 root root   153 May 29 23:25 docker-compose.yml\n",
            "-rw-r--r--  1 root root   108 May 29 23:25 Dockerfile\n",
            "drwxr-xr-x  2 root root  4096 May 29 23:25 face_detector\n",
            "drwxr-xr-x  8 root root  4096 May 29 23:25 .git\n",
            "-rw-r--r--  1 root root    32 May 29 23:25 .gitignore\n",
            "drwxr-xr-x  3 root root  4096 May 29 23:25 .idea\n",
            "drwxr-xr-x  2 root root  4096 May 29 23:25 images\n",
            "drwxr-xr-x  2 root root  4096 May 29 23:25 .ipynb_checkpoints\n",
            "-rw-r--r--  1 root root 22048 May 29 23:25 masks_detection.ipynb\n",
            "drwxr-xr-x  2 root root  4096 May 29 23:25 model\n",
            "drwxr-xr-x  2 root root  4096 May 29 23:25 plot\n",
            "drwxr-xr-x  2 root root  4096 May 29 23:25 __pycache__\n",
            "drwxr-xr-x  4 root root  4096 May 29 23:25 python-flask\n",
            "-rw-r--r--  1 root root    27 May 29 23:25 README.md\n",
            "drwxr-xr-x  2 root root  4096 May 29 23:25 sounds\n",
            "-rw-r--r--  1 root root  5134 May 29 23:25 train_mask_detector.py\n"
          ],
          "name": "stdout"
        }
      ]
    },
    {
      "cell_type": "code",
      "metadata": {
        "id": "RWW90gohbAG_"
      },
      "source": [
        "!rm -rf model; mkdir model; ls -al model"
      ],
      "execution_count": null,
      "outputs": []
    },
    {
      "cell_type": "code",
      "metadata": {
        "id": "4_F6hzOOsiWd"
      },
      "source": [
        "# construct the argument parser and parse the arguments\n",
        "dataset_path=os.getcwd()+\"//dataset\"\n",
        "model_path=os.getcwd()+\"//model//mask_model\"\n",
        "plot_path=os.getcwd()+\"//plot\""
      ],
      "execution_count": 6,
      "outputs": []
    },
    {
      "cell_type": "code",
      "metadata": {
        "id": "hPiCu7LTnUd8"
      },
      "source": [
        "training_datagen = ImageDataGenerator(\n",
        "    rescale=1. / 255,\n",
        "    # 위의 옵션 값들을 보고 적절히 대입하여 줍니다.\n",
        "    rotation_range=20,\n",
        "    zoom_range=0.15,  \n",
        "    width_shift_range=0.2, \n",
        "    height_shift_range=0.2, \n",
        "    shear_range=0.15, \n",
        "    horizontal_flip=True, \n",
        "    fill_mode='nearest', \n",
        "    validation_split=0.2\n",
        "    )"
      ],
      "execution_count": 7,
      "outputs": []
    },
    {
      "cell_type": "code",
      "metadata": {
        "id": "w-5x2C-MoAQX"
      },
      "source": [
        "TRAINING_DIR = \"dataset/\""
      ],
      "execution_count": 8,
      "outputs": []
    },
    {
      "cell_type": "code",
      "metadata": {
        "colab": {
          "base_uri": "https://localhost:8080/"
        },
        "id": "QkFhXkLxoiBl",
        "outputId": "cf962d6b-8aa9-45f5-a49f-0c0ed9d08d18"
      },
      "source": [
        "training_generator = training_datagen.flow_from_directory(TRAINING_DIR, \n",
        "                                                            target_size=(224, 224),\n",
        "                                                            color_mode='rgb', classes=None,\n",
        "                                                            class_mode='categorical',\n",
        "                                                            batch_size=128,                                                            \n",
        "                                                            subset='training', \n",
        ")"
      ],
      "execution_count": 9,
      "outputs": [
        {
          "output_type": "stream",
          "text": [
            "Found 1131 images belonging to 2 classes.\n"
          ],
          "name": "stdout"
        }
      ]
    },
    {
      "cell_type": "code",
      "metadata": {
        "colab": {
          "base_uri": "https://localhost:8080/"
        },
        "id": "UpoAB-TDrM8F",
        "outputId": "0887496c-da46-4b02-acbf-b1150ba3a15a"
      },
      "source": [
        "validation_generator = training_datagen.flow_from_directory(TRAINING_DIR, \n",
        "                                                            target_size=(224, 224),\n",
        "                                                            color_mode='rgb', classes=None,\n",
        "                                                            class_mode='categorical',\n",
        "                                                            batch_size=128,                                                            \n",
        "                                                            subset='validation', \n",
        "                                                            )"
      ],
      "execution_count": 10,
      "outputs": [
        {
          "output_type": "stream",
          "text": [
            "Found 282 images belonging to 2 classes.\n"
          ],
          "name": "stdout"
        }
      ]
    },
    {
      "cell_type": "markdown",
      "metadata": {
        "id": "Olu2e3RAb-Be"
      },
      "source": [
        "## STEP 3. 모델 정의 (Sequential)\n"
      ]
    },
    {
      "cell_type": "code",
      "metadata": {
        "colab": {
          "base_uri": "https://localhost:8080/"
        },
        "id": "YtD7VdsFcayk",
        "outputId": "e9c612e0-532b-480a-f34d-8510cc5d4ed7"
      },
      "source": [
        "# load the MobileNetV2 network, ensuring the head FC layer sets are\n",
        "# left off\n",
        "baseModel = MobileNetV2(weights=\"imagenet\", include_top=False,input_tensor=Input(shape=(224, 224, 3)))\n",
        "\n",
        "# construct the head of the model that will be placed on top of the\n",
        "# the base model\n",
        "headModel = baseModel.output\n",
        "headModel = AveragePooling2D(pool_size=(7, 7))(headModel)\n",
        "headModel = Flatten(name=\"flatten\")(headModel)\n",
        "headModel = Dense(128, activation=\"relu\")(headModel)\n",
        "headModel = Dropout(0.5)(headModel)\n",
        "headModel = Dense(2, activation=\"softmax\")(headModel)\n",
        "\n",
        "# place the head FC model on top of the base model (this will become\n",
        "# the actual model we will train)\n",
        "model = Model(inputs=baseModel.input, outputs=headModel)\n",
        "\n",
        "# loop over all layers in the base model and freeze them so they will\n",
        "# *not* be updated during the first training process\n",
        "for layer in baseModel.layers:\n",
        "\tlayer.trainable = False"
      ],
      "execution_count": 11,
      "outputs": [
        {
          "output_type": "stream",
          "text": [
            "WARNING:tensorflow:`input_shape` is undefined or non-square, or `rows` is not in [96, 128, 160, 192, 224]. Weights for input shape (224, 224) will be loaded as the default.\n",
            "Downloading data from https://storage.googleapis.com/tensorflow/keras-applications/mobilenet_v2/mobilenet_v2_weights_tf_dim_ordering_tf_kernels_1.0_224_no_top.h5\n",
            "9412608/9406464 [==============================] - 0s 0us/step\n"
          ],
          "name": "stdout"
        }
      ]
    },
    {
      "cell_type": "markdown",
      "metadata": {
        "id": "tHe2YJWwcdKR"
      },
      "source": [
        "## STEP 4. optimizer, loss"
      ]
    },
    {
      "cell_type": "code",
      "metadata": {
        "id": "cvsd_Q2TsuWo"
      },
      "source": [
        "# initialize the initial learning rate, number of epochs to train for,\n",
        "# and batch size\n",
        "INIT_LR = 1e-4\n",
        "EPOCHS = 20\n",
        "BS = 32"
      ],
      "execution_count": 12,
      "outputs": []
    },
    {
      "cell_type": "code",
      "metadata": {
        "colab": {
          "base_uri": "https://localhost:8080/"
        },
        "id": "HuZPGgu6dE6i",
        "outputId": "f4d06ac0-a1cc-47a1-f674-e7264fcaf7de"
      },
      "source": [
        "# compile our model\n",
        "print(\"[INFO] compiling model...\")\n",
        "opt = Adam(learning_rate=INIT_LR, decay=INIT_LR / EPOCHS)\n",
        "model.compile(optimizer=opt, loss='categorical_crossentropy', metrics=['acc'])"
      ],
      "execution_count": 13,
      "outputs": [
        {
          "output_type": "stream",
          "text": [
            "[INFO] compiling model...\n"
          ],
          "name": "stdout"
        }
      ]
    },
    {
      "cell_type": "markdown",
      "metadata": {
        "id": "nyurl9b8dANW"
      },
      "source": [
        "## STEP 5. ModelCheckpoint"
      ]
    },
    {
      "cell_type": "code",
      "metadata": {
        "id": "sQTpk-pYg9qr"
      },
      "source": [
        "checkpoint_path = \"my_checkpoint.ckpt\"\n",
        "checkpoint = ModelCheckpoint(filepath=checkpoint_path, \n",
        "                             save_weights_only=True, \n",
        "                             save_best_only=True, \n",
        "                             monitor='val_loss', \n",
        "                             verbose=1)"
      ],
      "execution_count": 14,
      "outputs": []
    },
    {
      "cell_type": "markdown",
      "metadata": {
        "id": "26jNHE7FdL4F"
      },
      "source": [
        "## STEP 6. 학습 (fit)"
      ]
    },
    {
      "cell_type": "code",
      "metadata": {
        "colab": {
          "base_uri": "https://localhost:8080/"
        },
        "id": "oPR0ZWvPqB88",
        "outputId": "7f24f3ac-ae48-4041-e8cd-0f176140d689"
      },
      "source": [
        "history = model.fit(training_generator,\n",
        "          epochs=BS, \n",
        "          verbose=1, \n",
        "          callbacks=[checkpoint],\n",
        "          validation_data=(validation_generator)\n",
        "          )"
      ],
      "execution_count": 16,
      "outputs": [
        {
          "output_type": "stream",
          "text": [
            "Epoch 1/32\n",
            "9/9 [==============================] - 16s 2s/step - loss: 0.1335 - acc: 0.9726 - val_loss: 0.1148 - val_acc: 0.9752\n",
            "\n",
            "Epoch 00001: val_loss improved from 0.19040 to 0.11484, saving model to my_checkpoint.ckpt\n",
            "Epoch 2/32\n",
            "9/9 [==============================] - 16s 2s/step - loss: 0.0993 - acc: 0.9752 - val_loss: 0.0762 - val_acc: 0.9823\n",
            "\n",
            "Epoch 00002: val_loss improved from 0.11484 to 0.07618, saving model to my_checkpoint.ckpt\n",
            "Epoch 3/32\n",
            "9/9 [==============================] - 16s 2s/step - loss: 0.0776 - acc: 0.9841 - val_loss: 0.0615 - val_acc: 0.9929\n",
            "\n",
            "Epoch 00003: val_loss improved from 0.07618 to 0.06149, saving model to my_checkpoint.ckpt\n",
            "Epoch 4/32\n",
            "9/9 [==============================] - 16s 2s/step - loss: 0.0656 - acc: 0.9823 - val_loss: 0.0576 - val_acc: 0.9858\n",
            "\n",
            "Epoch 00004: val_loss improved from 0.06149 to 0.05759, saving model to my_checkpoint.ckpt\n",
            "Epoch 5/32\n",
            "9/9 [==============================] - 15s 2s/step - loss: 0.0592 - acc: 0.9841 - val_loss: 0.0645 - val_acc: 0.9823\n",
            "\n",
            "Epoch 00005: val_loss did not improve from 0.05759\n",
            "Epoch 6/32\n",
            "9/9 [==============================] - 16s 2s/step - loss: 0.0462 - acc: 0.9894 - val_loss: 0.0640 - val_acc: 0.9681\n",
            "\n",
            "Epoch 00006: val_loss did not improve from 0.05759\n",
            "Epoch 7/32\n",
            "9/9 [==============================] - 16s 2s/step - loss: 0.0503 - acc: 0.9876 - val_loss: 0.0468 - val_acc: 0.9858\n",
            "\n",
            "Epoch 00007: val_loss improved from 0.05759 to 0.04679, saving model to my_checkpoint.ckpt\n",
            "Epoch 8/32\n",
            "9/9 [==============================] - 16s 2s/step - loss: 0.0401 - acc: 0.9885 - val_loss: 0.0326 - val_acc: 0.9965\n",
            "\n",
            "Epoch 00008: val_loss improved from 0.04679 to 0.03256, saving model to my_checkpoint.ckpt\n",
            "Epoch 9/32\n",
            "9/9 [==============================] - 16s 2s/step - loss: 0.0425 - acc: 0.9894 - val_loss: 0.0460 - val_acc: 0.9858\n",
            "\n",
            "Epoch 00009: val_loss did not improve from 0.03256\n",
            "Epoch 10/32\n",
            "9/9 [==============================] - 16s 2s/step - loss: 0.0400 - acc: 0.9894 - val_loss: 0.0310 - val_acc: 0.9965\n",
            "\n",
            "Epoch 00010: val_loss improved from 0.03256 to 0.03104, saving model to my_checkpoint.ckpt\n",
            "Epoch 11/32\n",
            "9/9 [==============================] - 16s 2s/step - loss: 0.0326 - acc: 0.9929 - val_loss: 0.0238 - val_acc: 0.9929\n",
            "\n",
            "Epoch 00011: val_loss improved from 0.03104 to 0.02379, saving model to my_checkpoint.ckpt\n",
            "Epoch 12/32\n",
            "9/9 [==============================] - 16s 2s/step - loss: 0.0274 - acc: 0.9929 - val_loss: 0.0259 - val_acc: 0.9965\n",
            "\n",
            "Epoch 00012: val_loss did not improve from 0.02379\n",
            "Epoch 13/32\n",
            "9/9 [==============================] - 16s 2s/step - loss: 0.0372 - acc: 0.9850 - val_loss: 0.0245 - val_acc: 0.9929\n",
            "\n",
            "Epoch 00013: val_loss did not improve from 0.02379\n",
            "Epoch 14/32\n",
            "9/9 [==============================] - 16s 2s/step - loss: 0.0232 - acc: 0.9965 - val_loss: 0.0367 - val_acc: 0.9858\n",
            "\n",
            "Epoch 00014: val_loss did not improve from 0.02379\n",
            "Epoch 15/32\n",
            "9/9 [==============================] - 16s 2s/step - loss: 0.0235 - acc: 0.9920 - val_loss: 0.0357 - val_acc: 0.9858\n",
            "\n",
            "Epoch 00015: val_loss did not improve from 0.02379\n",
            "Epoch 16/32\n",
            "9/9 [==============================] - 16s 2s/step - loss: 0.0250 - acc: 0.9947 - val_loss: 0.0371 - val_acc: 0.9858\n",
            "\n",
            "Epoch 00016: val_loss did not improve from 0.02379\n",
            "Epoch 17/32\n",
            "9/9 [==============================] - 16s 2s/step - loss: 0.0171 - acc: 0.9973 - val_loss: 0.0256 - val_acc: 0.9929\n",
            "\n",
            "Epoch 00017: val_loss did not improve from 0.02379\n",
            "Epoch 18/32\n",
            "9/9 [==============================] - 16s 2s/step - loss: 0.0157 - acc: 0.9973 - val_loss: 0.0264 - val_acc: 0.9929\n",
            "\n",
            "Epoch 00018: val_loss did not improve from 0.02379\n",
            "Epoch 19/32\n",
            "9/9 [==============================] - 16s 2s/step - loss: 0.0186 - acc: 0.9947 - val_loss: 0.0325 - val_acc: 0.9894\n",
            "\n",
            "Epoch 00019: val_loss did not improve from 0.02379\n",
            "Epoch 20/32\n",
            "9/9 [==============================] - 16s 2s/step - loss: 0.0194 - acc: 0.9965 - val_loss: 0.0151 - val_acc: 1.0000\n",
            "\n",
            "Epoch 00020: val_loss improved from 0.02379 to 0.01513, saving model to my_checkpoint.ckpt\n",
            "Epoch 21/32\n",
            "9/9 [==============================] - 16s 2s/step - loss: 0.0163 - acc: 0.9965 - val_loss: 0.0183 - val_acc: 1.0000\n",
            "\n",
            "Epoch 00021: val_loss did not improve from 0.01513\n",
            "Epoch 22/32\n",
            "9/9 [==============================] - 16s 2s/step - loss: 0.0214 - acc: 0.9929 - val_loss: 0.0180 - val_acc: 0.9965\n",
            "\n",
            "Epoch 00022: val_loss did not improve from 0.01513\n",
            "Epoch 23/32\n",
            "9/9 [==============================] - 16s 2s/step - loss: 0.0188 - acc: 0.9938 - val_loss: 0.0201 - val_acc: 0.9929\n",
            "\n",
            "Epoch 00023: val_loss did not improve from 0.01513\n",
            "Epoch 24/32\n",
            "9/9 [==============================] - 15s 2s/step - loss: 0.0160 - acc: 0.9947 - val_loss: 0.0203 - val_acc: 0.9929\n",
            "\n",
            "Epoch 00024: val_loss did not improve from 0.01513\n",
            "Epoch 25/32\n",
            "9/9 [==============================] - 16s 2s/step - loss: 0.0150 - acc: 0.9973 - val_loss: 0.0142 - val_acc: 0.9965\n",
            "\n",
            "Epoch 00025: val_loss improved from 0.01513 to 0.01417, saving model to my_checkpoint.ckpt\n",
            "Epoch 26/32\n",
            "9/9 [==============================] - 15s 2s/step - loss: 0.0135 - acc: 0.9965 - val_loss: 0.0159 - val_acc: 0.9965\n",
            "\n",
            "Epoch 00026: val_loss did not improve from 0.01417\n",
            "Epoch 27/32\n",
            "9/9 [==============================] - 16s 2s/step - loss: 0.0106 - acc: 0.9982 - val_loss: 0.0180 - val_acc: 0.9929\n",
            "\n",
            "Epoch 00027: val_loss did not improve from 0.01417\n",
            "Epoch 28/32\n",
            "9/9 [==============================] - 16s 2s/step - loss: 0.0127 - acc: 0.9973 - val_loss: 0.0192 - val_acc: 0.9929\n",
            "\n",
            "Epoch 00028: val_loss did not improve from 0.01417\n",
            "Epoch 29/32\n",
            "9/9 [==============================] - 16s 2s/step - loss: 0.0154 - acc: 0.9947 - val_loss: 0.0167 - val_acc: 0.9929\n",
            "\n",
            "Epoch 00029: val_loss did not improve from 0.01417\n",
            "Epoch 30/32\n",
            "9/9 [==============================] - 16s 2s/step - loss: 0.0120 - acc: 0.9956 - val_loss: 0.0337 - val_acc: 0.9894\n",
            "\n",
            "Epoch 00030: val_loss did not improve from 0.01417\n",
            "Epoch 31/32\n",
            "9/9 [==============================] - 15s 2s/step - loss: 0.0121 - acc: 0.9965 - val_loss: 0.0194 - val_acc: 0.9929\n",
            "\n",
            "Epoch 00031: val_loss did not improve from 0.01417\n",
            "Epoch 32/32\n",
            "9/9 [==============================] - 15s 2s/step - loss: 0.0120 - acc: 0.9938 - val_loss: 0.0146 - val_acc: 0.9965\n",
            "\n",
            "Epoch 00032: val_loss did not improve from 0.01417\n"
          ],
          "name": "stdout"
        }
      ]
    },
    {
      "cell_type": "markdown",
      "metadata": {
        "id": "ddb213U0dS9m"
      },
      "source": [
        "## STEP 7. 학습 완료 후 Load Weights (ModelCheckpoint)"
      ]
    },
    {
      "cell_type": "code",
      "metadata": {
        "colab": {
          "base_uri": "https://localhost:8080/"
        },
        "id": "IjTJB3wms2Ri",
        "outputId": "0bc6ade3-f6c8-4ec4-c8a9-7dec381ddf4b"
      },
      "source": [
        "model.load_weights(checkpoint_path)"
      ],
      "execution_count": 17,
      "outputs": [
        {
          "output_type": "execute_result",
          "data": {
            "text/plain": [
              "<tensorflow.python.training.tracking.util.CheckpointLoadStatus at 0x7fd0b419c150>"
            ]
          },
          "metadata": {
            "tags": []
          },
          "execution_count": 17
        }
      ]
    },
    {
      "cell_type": "markdown",
      "metadata": {
        "id": "TfwIO1wxemX_"
      },
      "source": [
        "## STEP 8. 모델 저장"
      ]
    },
    {
      "cell_type": "code",
      "metadata": {
        "id": "A_YVmWCpeyDD",
        "colab": {
          "base_uri": "https://localhost:8080/"
        },
        "outputId": "b05afac8-0339-4d12-9422-025d77d9446d"
      },
      "source": [
        "# serialize the model to disk\n",
        "print(\"[INFO] saving mask detector model... path: %s\"%(model_path+\".h5\"))\n",
        "model.save(model_path+\".h5\")"
      ],
      "execution_count": 18,
      "outputs": [
        {
          "output_type": "stream",
          "text": [
            "[INFO] saving mask detector model... path: /content/project1-masksdetection//model//mask_model.h5\n"
          ],
          "name": "stdout"
        },
        {
          "output_type": "stream",
          "text": [
            "/usr/local/lib/python3.7/dist-packages/tensorflow/python/keras/utils/generic_utils.py:497: CustomMaskWarning: Custom mask layers require a config and must override get_config. When loading, the custom mask layer must be passed to the custom_objects argument.\n",
            "  category=CustomMaskWarning)\n"
          ],
          "name": "stderr"
        }
      ]
    },
    {
      "cell_type": "code",
      "metadata": {
        "colab": {
          "base_uri": "https://localhost:8080/"
        },
        "id": "Adfz02DngS9x",
        "outputId": "82ef3d00-d926-4162-fedd-cafdb5658083"
      },
      "source": [
        "!pip install tensorflowjs"
      ],
      "execution_count": 21,
      "outputs": [
        {
          "output_type": "stream",
          "text": [
            "Collecting tensorflowjs\n",
            "\u001b[?25l  Downloading https://files.pythonhosted.org/packages/28/5a/2497b3ba86f5f1c2c7539e0bc5d957146a5ed71acfb6c66f644974af4309/tensorflowjs-3.6.0-py3-none-any.whl (63kB)\n",
            "\r\u001b[K     |█████▏                          | 10kB 19.8MB/s eta 0:00:01\r\u001b[K     |██████████▎                     | 20kB 27.0MB/s eta 0:00:01\r\u001b[K     |███████████████▍                | 30kB 21.9MB/s eta 0:00:01\r\u001b[K     |████████████████████▌           | 40kB 17.1MB/s eta 0:00:01\r\u001b[K     |█████████████████████████▊      | 51kB 8.4MB/s eta 0:00:01\r\u001b[K     |██████████████████████████████▉ | 61kB 9.7MB/s eta 0:00:01\r\u001b[K     |████████████████████████████████| 71kB 5.6MB/s \n",
            "\u001b[?25hRequirement already satisfied: tensorflow<3,>=2.1.0 in /usr/local/lib/python3.7/dist-packages (from tensorflowjs) (2.5.0)\n",
            "Requirement already satisfied: six<2,>=1.12.0 in /usr/local/lib/python3.7/dist-packages (from tensorflowjs) (1.15.0)\n",
            "Collecting tensorflow-hub<0.10,>=0.7.0\n",
            "\u001b[?25l  Downloading https://files.pythonhosted.org/packages/ac/83/a7df82744a794107641dad1decaad017d82e25f0e1f761ac9204829eef96/tensorflow_hub-0.9.0-py2.py3-none-any.whl (103kB)\n",
            "\u001b[K     |████████████████████████████████| 112kB 15.0MB/s \n",
            "\u001b[?25hRequirement already satisfied: opt-einsum~=3.3.0 in /usr/local/lib/python3.7/dist-packages (from tensorflow<3,>=2.1.0->tensorflowjs) (3.3.0)\n",
            "Requirement already satisfied: termcolor~=1.1.0 in /usr/local/lib/python3.7/dist-packages (from tensorflow<3,>=2.1.0->tensorflowjs) (1.1.0)\n",
            "Requirement already satisfied: gast==0.4.0 in /usr/local/lib/python3.7/dist-packages (from tensorflow<3,>=2.1.0->tensorflowjs) (0.4.0)\n",
            "Requirement already satisfied: tensorflow-estimator<2.6.0,>=2.5.0rc0 in /usr/local/lib/python3.7/dist-packages (from tensorflow<3,>=2.1.0->tensorflowjs) (2.5.0)\n",
            "Requirement already satisfied: tensorboard~=2.5 in /usr/local/lib/python3.7/dist-packages (from tensorflow<3,>=2.1.0->tensorflowjs) (2.5.0)\n",
            "Requirement already satisfied: typing-extensions~=3.7.4 in /usr/local/lib/python3.7/dist-packages (from tensorflow<3,>=2.1.0->tensorflowjs) (3.7.4.3)\n",
            "Requirement already satisfied: protobuf>=3.9.2 in /usr/local/lib/python3.7/dist-packages (from tensorflow<3,>=2.1.0->tensorflowjs) (3.12.4)\n",
            "Requirement already satisfied: grpcio~=1.34.0 in /usr/local/lib/python3.7/dist-packages (from tensorflow<3,>=2.1.0->tensorflowjs) (1.34.1)\n",
            "Requirement already satisfied: astunparse~=1.6.3 in /usr/local/lib/python3.7/dist-packages (from tensorflow<3,>=2.1.0->tensorflowjs) (1.6.3)\n",
            "Requirement already satisfied: google-pasta~=0.2 in /usr/local/lib/python3.7/dist-packages (from tensorflow<3,>=2.1.0->tensorflowjs) (0.2.0)\n",
            "Requirement already satisfied: numpy~=1.19.2 in /usr/local/lib/python3.7/dist-packages (from tensorflow<3,>=2.1.0->tensorflowjs) (1.19.5)\n",
            "Requirement already satisfied: wheel~=0.35 in /usr/local/lib/python3.7/dist-packages (from tensorflow<3,>=2.1.0->tensorflowjs) (0.36.2)\n",
            "Requirement already satisfied: keras-nightly~=2.5.0.dev in /usr/local/lib/python3.7/dist-packages (from tensorflow<3,>=2.1.0->tensorflowjs) (2.5.0.dev2021032900)\n",
            "Requirement already satisfied: wrapt~=1.12.1 in /usr/local/lib/python3.7/dist-packages (from tensorflow<3,>=2.1.0->tensorflowjs) (1.12.1)\n",
            "Requirement already satisfied: flatbuffers~=1.12.0 in /usr/local/lib/python3.7/dist-packages (from tensorflow<3,>=2.1.0->tensorflowjs) (1.12)\n",
            "Requirement already satisfied: keras-preprocessing~=1.1.2 in /usr/local/lib/python3.7/dist-packages (from tensorflow<3,>=2.1.0->tensorflowjs) (1.1.2)\n",
            "Requirement already satisfied: absl-py~=0.10 in /usr/local/lib/python3.7/dist-packages (from tensorflow<3,>=2.1.0->tensorflowjs) (0.12.0)\n",
            "Requirement already satisfied: h5py~=3.1.0 in /usr/local/lib/python3.7/dist-packages (from tensorflow<3,>=2.1.0->tensorflowjs) (3.1.0)\n",
            "Requirement already satisfied: tensorboard-plugin-wit>=1.6.0 in /usr/local/lib/python3.7/dist-packages (from tensorboard~=2.5->tensorflow<3,>=2.1.0->tensorflowjs) (1.8.0)\n",
            "Requirement already satisfied: google-auth<2,>=1.6.3 in /usr/local/lib/python3.7/dist-packages (from tensorboard~=2.5->tensorflow<3,>=2.1.0->tensorflowjs) (1.30.0)\n",
            "Requirement already satisfied: setuptools>=41.0.0 in /usr/local/lib/python3.7/dist-packages (from tensorboard~=2.5->tensorflow<3,>=2.1.0->tensorflowjs) (56.1.0)\n",
            "Requirement already satisfied: tensorboard-data-server<0.7.0,>=0.6.0 in /usr/local/lib/python3.7/dist-packages (from tensorboard~=2.5->tensorflow<3,>=2.1.0->tensorflowjs) (0.6.1)\n",
            "Requirement already satisfied: google-auth-oauthlib<0.5,>=0.4.1 in /usr/local/lib/python3.7/dist-packages (from tensorboard~=2.5->tensorflow<3,>=2.1.0->tensorflowjs) (0.4.4)\n",
            "Requirement already satisfied: markdown>=2.6.8 in /usr/local/lib/python3.7/dist-packages (from tensorboard~=2.5->tensorflow<3,>=2.1.0->tensorflowjs) (3.3.4)\n",
            "Requirement already satisfied: werkzeug>=0.11.15 in /usr/local/lib/python3.7/dist-packages (from tensorboard~=2.5->tensorflow<3,>=2.1.0->tensorflowjs) (1.0.1)\n",
            "Requirement already satisfied: requests<3,>=2.21.0 in /usr/local/lib/python3.7/dist-packages (from tensorboard~=2.5->tensorflow<3,>=2.1.0->tensorflowjs) (2.23.0)\n",
            "Requirement already satisfied: cached-property; python_version < \"3.8\" in /usr/local/lib/python3.7/dist-packages (from h5py~=3.1.0->tensorflow<3,>=2.1.0->tensorflowjs) (1.5.2)\n",
            "Requirement already satisfied: rsa<5,>=3.1.4; python_version >= \"3.6\" in /usr/local/lib/python3.7/dist-packages (from google-auth<2,>=1.6.3->tensorboard~=2.5->tensorflow<3,>=2.1.0->tensorflowjs) (4.7.2)\n",
            "Requirement already satisfied: pyasn1-modules>=0.2.1 in /usr/local/lib/python3.7/dist-packages (from google-auth<2,>=1.6.3->tensorboard~=2.5->tensorflow<3,>=2.1.0->tensorflowjs) (0.2.8)\n",
            "Requirement already satisfied: cachetools<5.0,>=2.0.0 in /usr/local/lib/python3.7/dist-packages (from google-auth<2,>=1.6.3->tensorboard~=2.5->tensorflow<3,>=2.1.0->tensorflowjs) (4.2.2)\n",
            "Requirement already satisfied: requests-oauthlib>=0.7.0 in /usr/local/lib/python3.7/dist-packages (from google-auth-oauthlib<0.5,>=0.4.1->tensorboard~=2.5->tensorflow<3,>=2.1.0->tensorflowjs) (1.3.0)\n",
            "Requirement already satisfied: importlib-metadata; python_version < \"3.8\" in /usr/local/lib/python3.7/dist-packages (from markdown>=2.6.8->tensorboard~=2.5->tensorflow<3,>=2.1.0->tensorflowjs) (4.0.1)\n",
            "Requirement already satisfied: idna<3,>=2.5 in /usr/local/lib/python3.7/dist-packages (from requests<3,>=2.21.0->tensorboard~=2.5->tensorflow<3,>=2.1.0->tensorflowjs) (2.10)\n",
            "Requirement already satisfied: certifi>=2017.4.17 in /usr/local/lib/python3.7/dist-packages (from requests<3,>=2.21.0->tensorboard~=2.5->tensorflow<3,>=2.1.0->tensorflowjs) (2020.12.5)\n",
            "Requirement already satisfied: chardet<4,>=3.0.2 in /usr/local/lib/python3.7/dist-packages (from requests<3,>=2.21.0->tensorboard~=2.5->tensorflow<3,>=2.1.0->tensorflowjs) (3.0.4)\n",
            "Requirement already satisfied: urllib3!=1.25.0,!=1.25.1,<1.26,>=1.21.1 in /usr/local/lib/python3.7/dist-packages (from requests<3,>=2.21.0->tensorboard~=2.5->tensorflow<3,>=2.1.0->tensorflowjs) (1.24.3)\n",
            "Requirement already satisfied: pyasn1>=0.1.3 in /usr/local/lib/python3.7/dist-packages (from rsa<5,>=3.1.4; python_version >= \"3.6\"->google-auth<2,>=1.6.3->tensorboard~=2.5->tensorflow<3,>=2.1.0->tensorflowjs) (0.4.8)\n",
            "Requirement already satisfied: oauthlib>=3.0.0 in /usr/local/lib/python3.7/dist-packages (from requests-oauthlib>=0.7.0->google-auth-oauthlib<0.5,>=0.4.1->tensorboard~=2.5->tensorflow<3,>=2.1.0->tensorflowjs) (3.1.0)\n",
            "Requirement already satisfied: zipp>=0.5 in /usr/local/lib/python3.7/dist-packages (from importlib-metadata; python_version < \"3.8\"->markdown>=2.6.8->tensorboard~=2.5->tensorflow<3,>=2.1.0->tensorflowjs) (3.4.1)\n",
            "Installing collected packages: tensorflow-hub, tensorflowjs\n",
            "  Found existing installation: tensorflow-hub 0.12.0\n",
            "    Uninstalling tensorflow-hub-0.12.0:\n",
            "      Successfully uninstalled tensorflow-hub-0.12.0\n",
            "Successfully installed tensorflow-hub-0.9.0 tensorflowjs-3.6.0\n"
          ],
          "name": "stdout"
        }
      ]
    },
    {
      "cell_type": "code",
      "metadata": {
        "colab": {
          "base_uri": "https://localhost:8080/"
        },
        "id": "9rjzRgJjf-c5",
        "outputId": "cac31e05-ff97-4f98-ff90-80ab14107ca8"
      },
      "source": [
        "!tensorflowjs_converter --input_format=keras model/mask_model.h5 model/mask_model.json"
      ],
      "execution_count": 22,
      "outputs": [
        {
          "output_type": "stream",
          "text": [
            "2021-05-29 23:41:52.915878: I tensorflow/stream_executor/platform/default/dso_loader.cc:53] Successfully opened dynamic library libcudart.so.11.0\n"
          ],
          "name": "stdout"
        }
      ]
    },
    {
      "cell_type": "markdown",
      "metadata": {
        "id": "zZV37dFKdbQ0"
      },
      "source": [
        "## STEP 9. 예측 (Predict)"
      ]
    },
    {
      "cell_type": "code",
      "metadata": {
        "id": "nd2sDK7Lec3x"
      },
      "source": [
        "# make predictions on the testing set\n",
        "# print(\"[INFO] evaluating network...\")\n",
        "# predIdxs = model.predict(testX, batch_size=BS)"
      ],
      "execution_count": null,
      "outputs": []
    },
    {
      "cell_type": "markdown",
      "metadata": {
        "id": "wC287h1heVbI"
      },
      "source": [
        "## STEP 10. 리포트"
      ]
    },
    {
      "cell_type": "code",
      "metadata": {
        "colab": {
          "base_uri": "https://localhost:8080/"
        },
        "id": "oAN_2wWUd35W",
        "outputId": "10cfb4e6-f956-4969-f120-7628abb9903e"
      },
      "source": [
        "print(history.history)"
      ],
      "execution_count": 24,
      "outputs": [
        {
          "output_type": "stream",
          "text": [
            "{'loss': [0.13353872299194336, 0.09931779652833939, 0.07760360091924667, 0.0656416267156601, 0.059241656213998795, 0.04619378224015236, 0.05025656521320343, 0.04011290520429611, 0.042531874030828476, 0.040038950741291046, 0.03257671371102333, 0.02741144225001335, 0.037201836705207825, 0.02317490056157112, 0.023542875424027443, 0.025033602491021156, 0.017110858112573624, 0.015741409733891487, 0.018639765679836273, 0.019364001229405403, 0.016278212890028954, 0.021430788561701775, 0.018821241334080696, 0.015996195375919342, 0.014993336983025074, 0.013542002066969872, 0.010639426298439503, 0.012688093818724155, 0.01543851476162672, 0.011999919079244137, 0.012120750732719898, 0.01198809314519167], 'acc': [0.9725906252861023, 0.9752431511878967, 0.9840849041938782, 0.9823165535926819, 0.9840849041938782, 0.9893898963928223, 0.987621545791626, 0.9885057210922241, 0.9893898963928223, 0.9893898963928223, 0.9929265975952148, 0.9929265975952148, 0.9849690794944763, 0.9964632987976074, 0.9920424222946167, 0.9946949481964111, 0.9973474740982056, 0.9973474740982056, 0.9946949481964111, 0.9964632987976074, 0.9964632987976074, 0.9929265975952148, 0.993810772895813, 0.9946949481964111, 0.9973474740982056, 0.9964632987976074, 0.9982316493988037, 0.9973474740982056, 0.9946949481964111, 0.9955791234970093, 0.9964632987976074, 0.993810772895813], 'val_loss': [0.11483532190322876, 0.07618192583322525, 0.06149260699748993, 0.05759486183524132, 0.06447251886129379, 0.06398110836744308, 0.04679407179355621, 0.032562583684921265, 0.045965734869241714, 0.03103700652718544, 0.02378823235630989, 0.02588881179690361, 0.024529021233320236, 0.03673424944281578, 0.03568734973669052, 0.037061989307403564, 0.025642655789852142, 0.026431819424033165, 0.032518159598112106, 0.015134844928979874, 0.01833934709429741, 0.01802591048181057, 0.020100977271795273, 0.020262379199266434, 0.014169622212648392, 0.015856171026825905, 0.017994854599237442, 0.01919577457010746, 0.016685904935002327, 0.03366062790155411, 0.019418947398662567, 0.01459867600351572], 'val_acc': [0.9751772880554199, 0.9822695255279541, 0.9929078221321106, 0.9858155846595764, 0.9822695255279541, 0.9680851101875305, 0.9858155846595764, 0.9964538812637329, 0.9858155846595764, 0.9964538812637329, 0.9929078221321106, 0.9964538812637329, 0.9929078221321106, 0.9858155846595764, 0.9858155846595764, 0.9858155846595764, 0.9929078221321106, 0.9929078221321106, 0.9893617033958435, 1.0, 1.0, 0.9964538812637329, 0.9929078221321106, 0.9929078221321106, 0.9964538812637329, 0.9964538812637329, 0.9929078221321106, 0.9929078221321106, 0.9929078221321106, 0.9893617033958435, 0.9929078221321106, 0.9964538812637329]}\n"
          ],
          "name": "stdout"
        }
      ]
    },
    {
      "cell_type": "markdown",
      "metadata": {
        "id": "YROhEIVkd7Yf"
      },
      "source": [
        "### 1 훈련 과정 시각화 (정확도)"
      ]
    },
    {
      "cell_type": "code",
      "metadata": {
        "id": "r0zJO4wNd5aO"
      },
      "source": [
        "# plt.plot(history.history['accuracy'])\n",
        "# plt.plot(history.history['val_accuracy'])\n",
        "# plt.title('Model accuracy')\n",
        "# plt.xlabel('Epoch')\n",
        "# plt.ylabel('Accuracy')\n",
        "# plt.legend(['Train', 'Test'], loc='upper left')\n",
        "# plt.show()"
      ],
      "execution_count": null,
      "outputs": []
    },
    {
      "cell_type": "markdown",
      "metadata": {
        "id": "G1ktpwcreB7c"
      },
      "source": [
        "###2 훈련 과정 시각화 (손실)"
      ]
    },
    {
      "cell_type": "code",
      "metadata": {
        "colab": {
          "base_uri": "https://localhost:8080/",
          "height": 295
        },
        "id": "u7W8SffvdlvP",
        "outputId": "cd790b22-a43d-4e30-aa68-25d9aa0a3d17"
      },
      "source": [
        "plt.plot(history.history['loss'])\n",
        "plt.plot(history.history['val_loss'])\n",
        "plt.title('Model loss')\n",
        "plt.xlabel('Epoch')\n",
        "plt.ylabel('Loss')\n",
        "plt.legend(['Train', 'Test'], loc='upper left')\n",
        "plt.show()"
      ],
      "execution_count": 26,
      "outputs": [
        {
          "output_type": "display_data",
          "data": {
            "image/png": "[encoded data removed]",
            "text/plain": [
              "<Figure size 432x288 with 1 Axes>"
            ]
          },
          "metadata": {
            "tags": [],
            "needs_background": "light"
          }
        }
      ]
    },
    {
      "cell_type": "code",
      "metadata": {
        "id": "pyI2nKm0YJHA"
      },
      "source": [
        "# plot the training loss and accuracy\n",
        "# N = EPOCHS\n",
        "# plt.style.use(\"ggplot\")\n",
        "# plt.figure()\n",
        "# plt.plot(np.arange(0, N), H.history[\"loss\"], label=\"train_loss\")\n",
        "# plt.plot(np.arange(0, N), H.history[\"val_loss\"], label=\"val_loss\")\n",
        "# plt.plot(np.arange(0, N), H.history[\"accuracy\"], label=\"train_acc\")\n",
        "# plt.plot(np.arange(0, N), H.history[\"val_accuracy\"], label=\"val_acc\")\n",
        "# plt.title(\"Training Loss and Accuracy\")\n",
        "# plt.xlabel(\"Epoch #\")\n",
        "# plt.ylabel(\"Loss/Accuracy\")\n",
        "# plt.legend(loc=\"lower left\")\n",
        "# plt.savefig(plot_path)"
      ],
      "execution_count": null,
      "outputs": []
    }
  ]
}